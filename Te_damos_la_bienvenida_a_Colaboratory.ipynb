{
  "cells": [
    {
      "cell_type": "markdown",
      "metadata": {
        "id": "view-in-github",
        "colab_type": "text"
      },
      "source": [
        "<a href=\"https://colab.research.google.com/github/anjivervas/Notasunefa/blob/main/Te_damos_la_bienvenida_a_Colaboratory.ipynb\" target=\"_parent\"><img src=\"https://colab.research.google.com/assets/colab-badge.svg\" alt=\"Open In Colab\"/></a>"
      ]
    },
    {
      "cell_type": "code",
      "source": [
        "import tensorflow as tf #libreria para inteligencia artificial\n",
        "import numpy as np      #para trabajar con arreglos numericos"
      ],
      "metadata": {
        "id": "bdSIDZvKoUI9"
      },
      "execution_count": 1,
      "outputs": []
    },
    {
      "cell_type": "code",
      "source": [
        "#Matrices las cuales seran los ejemplos que la red usara para aprender\n",
        "celsius = np.array([ -40, -10, 95, 5, -20, -15, 8, 15, 22, 38, 80, 150,\n",
        "                    -5, 60, 160, 200, 6, 55, -3, -9, 7, 45, 115, -1, -30, 99, 11],dtype=float)\n",
        "\n",
        "fahrenheit = np.array([ -40, 14, 203, 41, -4, 5, 46, 59, 72, 100, 176,\n",
        "                       302, 23, 140, 320, 392, 43, 131, 27, 15, 45, 113, 239, 30, -22, 210, 52],dtype=float)"
      ],
      "metadata": {
        "id": "JuTr1KArogX2"
      },
      "execution_count": 2,
      "outputs": []
    },
    {
      "cell_type": "code",
      "source": [
        "#para una neurona\n",
        "#capa = tf.keras.layers.Dense(units=1, input_shape=[1])\n",
        "#modelo = tf.keras.Sequential([capa])\n",
        "\n",
        "#agregando dos capas intermedias y 3 neuronas por cada capa\n",
        "#oculta1 = tf.keras.layers.Dense(units=3, input_shape=[1]) #capa que recibe los datos de entrada en este caso los celsius, el input_shape le dice a la red neuronal que espero un solo valor de entrada\n",
        "#oculta2 = tf.keras.layers.Dense(units=3) #el Dense es una capa que hace que las neuronas tengan conexiones entre si\n",
        "#salida = tf.keras.layers.Dense(units=1)\n",
        "#modelo = tf.keras.Sequential([oculta1, oculta2, salida])\n",
        "\n",
        "#tres capas intermedias con 5 neuronas cada una\n",
        "#oculta1 = tf.keras.layers.Dense(units=5, input_shape=[1])\n",
        "#oculta2 = tf.keras.layers.Dense(units=5)\n",
        "#oculta3 = tf.keras.layers.Dense(units=5)\n",
        "#salida = tf.keras.layers.Dense(units=1)\n",
        "#modelo = tf.keras.Sequential([oculta1, oculta2, salida])\n",
        "\n",
        "#tres capas intermedias con 10 neuronas cada una\n",
        "oculta1 = tf.keras.layers.Dense(units=10, input_shape=[1])\n",
        "oculta2 = tf.keras.layers.Dense(units=10)\n",
        "oculta3 = tf.keras.layers.Dense(units=10)\n",
        "salida = tf.keras.layers.Dense(units=1)\n",
        "modelo = tf.keras.Sequential([oculta1, oculta2, salida])"
      ],
      "metadata": {
        "id": "lAaGV7SZqsih"
      },
      "execution_count": 3,
      "outputs": []
    },
    {
      "cell_type": "code",
      "source": [
        "modelo.compile(\n",
        "    optimizer=tf.keras.optimizers.Adam(0.1), #el numero es la taza de aprendizaje\n",
        "    loss ='mean_squared_error'               #funcion de perdida esta considera que una poca cantidad de errores grandes es peor que una gran cantidad de errores pequeños\n",
        ")"
      ],
      "metadata": {
        "id": "bcT9hWZ5rqCF"
      },
      "execution_count": 4,
      "outputs": []
    },
    {
      "cell_type": "code",
      "source": [
        "print(\"Comenzando entrenamiento...\") #ejecucion del entrenamiento\n",
        "historial = modelo.fit(celsius, fahrenheit, epochs=1000, verbose=False) #el epochs es las vueltas o repeticiones que dara, el verbose=False suprime el resultado del proceso del entrenamiento\n",
        "print(\"Modelo entrenado!\")"
      ],
      "metadata": {
        "colab": {
          "base_uri": "https://localhost:8080/"
        },
        "id": "EF9qhVjUsT8C",
        "outputId": "802be7a1-e50b-4c0c-8cf7-d08da6e7d4f1"
      },
      "execution_count": 5,
      "outputs": [
        {
          "output_type": "stream",
          "name": "stdout",
          "text": [
            "Comenzando entrenamiento...\n",
            "Modelo entrenado!\n"
          ]
        }
      ]
    },
    {
      "cell_type": "code",
      "source": [
        "import matplotlib.pyplot as plt #visualizar graficamente el aprendizaje del modelo\n",
        "plt.xlabel(\"# Epoca\")\n",
        "plt.ylabel(\"Magnitud perdida\")\n",
        "plt.plot(historial.history[\"loss\"])"
      ],
      "metadata": {
        "colab": {
          "base_uri": "https://localhost:8080/",
          "height": 466
        },
        "id": "BP7iOqo1tTUJ",
        "outputId": "d195c584-c17a-4264-90d8-d858411d74a8"
      },
      "execution_count": 6,
      "outputs": [
        {
          "output_type": "execute_result",
          "data": {
            "text/plain": [
              "[<matplotlib.lines.Line2D at 0x78dbe80a30d0>]"
            ]
          },
          "metadata": {},
          "execution_count": 6
        },
        {
          "output_type": "display_data",
          "data": {
            "text/plain": [
              "<Figure size 640x480 with 1 Axes>"
            ],
            "image/png": "[encoded data removed]"
          },
          "metadata": {}
        }
      ]
    },
    {
      "cell_type": "code",
      "source": [
        "print(\"Prediccion\")\n",
        "resultado = modelo.predict([55])\n",
        "print(\"El resultado es \" + str(resultado) + \"fahrenheit\")"
      ],
      "metadata": {
        "colab": {
          "base_uri": "https://localhost:8080/"
        },
        "id": "WEb8qzgwuRC9",
        "outputId": "287dcf8a-db46-49fa-f03e-e5ea9eac6b52"
      },
      "execution_count": 8,
      "outputs": [
        {
          "output_type": "stream",
          "name": "stdout",
          "text": [
            "Prediccion\n",
            "1/1 [==============================] - 0s 49ms/step\n",
            "El resultado es [[130.98492]]fahrenheit\n"
          ]
        }
      ]
    },
    {
      "cell_type": "code",
      "source": [
        "print(\"Variables internas del modelo\")\n",
        "print(capa.get_weights())"
      ],
      "metadata": {
        "colab": {
          "base_uri": "https://localhost:8080/"
        },
        "id": "lcshZk_rvP2D",
        "outputId": "3485fa3a-71d5-4326-a125-a4f19bb157d5"
      },
      "execution_count": 24,
      "outputs": [
        {
          "output_type": "stream",
          "name": "stdout",
          "text": [
            "Variables internas del modelo\n",
            "[array([[1.798184]], dtype=float32), array([31.92496], dtype=float32)]\n"
          ]
        }
      ]
    }
  ],
  "metadata": {
    "colab": {
      "name": "Te damos la bienvenida a Colaboratory",
      "provenance": [],
      "gpuType": "V28",
      "include_colab_link": true
    },
    "kernelspec": {
      "display_name": "Python 3",
      "name": "python3"
    },
    "accelerator": "TPU"
  },
  "nbformat": 4,
  "nbformat_minor": 0
}